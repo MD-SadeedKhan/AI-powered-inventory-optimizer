{
 "cells": [
  {
   "cell_type": "code",
   "execution_count": null,
   "id": "fe042951",
   "metadata": {},
   "outputs": [
    {
     "name": "stdout",
     "output_type": "stream",
     "text": [
      "✅ Scraped 2000 reviews.\n"
     ]
    }
   ],
   "source": [
    "from google_play_scraper import Sort, reviews\n",
    "import pandas as pd\n",
    "\n",
    "result, _ = reviews(\n",
    "    'com.application.zomato',  # Zomato app ID\n",
    "    lang='en',\n",
    "    country='in',\n",
    "    sort=Sort.NEWEST,\n",
    "    count=2000  # 👈 change this to 2000\n",
    ")\n",
    "\n",
    "df = pd.DataFrame(result)\n",
    "df.to_csv(\"zomato_reviews.csv\", index=False)\n",
    "print(\"✅ Scraped\", len(df), \"reviews.\")\n"
   ]
  },
  {
   "cell_type": "code",
   "execution_count": 1,
   "id": "1394b37f",
   "metadata": {},
   "outputs": [],
   "source": [
    "import pandas as pd \n",
    "import numpy as np \n",
    "import matplotlib.pyplot as plt \n",
    "import seaborn as sns"
   ]
  },
  {
   "cell_type": "code",
   "execution_count": 2,
   "id": "ac485687",
   "metadata": {},
   "outputs": [],
   "source": [
    "\n",
    "from sklearn.model_selection import train_test_split\n",
    "from sklearn.preprocessing import LabelEncoder, StandardScaler\n",
    "from sklearn.ensemble import RandomForestClassifier\n",
    "from sklearn.metrics import classification_report, confusion_matrix, accuracy_score\n"
   ]
  },
  {
   "cell_type": "code",
   "execution_count": 3,
   "id": "8811e0af",
   "metadata": {},
   "outputs": [
    {
     "data": {
      "text/html": [
       "<div>\n",
       "<style scoped>\n",
       "    .dataframe tbody tr th:only-of-type {\n",
       "        vertical-align: middle;\n",
       "    }\n",
       "\n",
       "    .dataframe tbody tr th {\n",
       "        vertical-align: top;\n",
       "    }\n",
       "\n",
       "    .dataframe thead th {\n",
       "        text-align: right;\n",
       "    }\n",
       "</style>\n",
       "<table border=\"1\" class=\"dataframe\">\n",
       "  <thead>\n",
       "    <tr style=\"text-align: right;\">\n",
       "      <th></th>\n",
       "      <th>reviewId</th>\n",
       "      <th>userName</th>\n",
       "      <th>userImage</th>\n",
       "      <th>content</th>\n",
       "      <th>score</th>\n",
       "      <th>thumbsUpCount</th>\n",
       "      <th>reviewCreatedVersion</th>\n",
       "      <th>at</th>\n",
       "      <th>replyContent</th>\n",
       "      <th>repliedAt</th>\n",
       "      <th>appVersion</th>\n",
       "    </tr>\n",
       "  </thead>\n",
       "  <tbody>\n",
       "    <tr>\n",
       "      <th>0</th>\n",
       "      <td>f186bba1-719d-40c9-9687-8e43490766de</td>\n",
       "      <td>Deepak Wakade</td>\n",
       "      <td>https://play-lh.googleusercontent.com/a-/ALV-U...</td>\n",
       "      <td>great app</td>\n",
       "      <td>5</td>\n",
       "      <td>0</td>\n",
       "      <td>18.9.7</td>\n",
       "      <td>2025-07-04 20:11:10</td>\n",
       "      <td>Thank you for your deliciously kind words! If ...</td>\n",
       "      <td>2025-07-04 20:13:39</td>\n",
       "      <td>18.9.7</td>\n",
       "    </tr>\n",
       "    <tr>\n",
       "      <th>1</th>\n",
       "      <td>7863f328-d0f4-4a3e-b773-8ba6cc2b7500</td>\n",
       "      <td>Prem Gurung</td>\n",
       "      <td>https://play-lh.googleusercontent.com/a-/ALV-U...</td>\n",
       "      <td>Good</td>\n",
       "      <td>4</td>\n",
       "      <td>0</td>\n",
       "      <td>18.9.9</td>\n",
       "      <td>2025-07-04 20:11:00</td>\n",
       "      <td>NaN</td>\n",
       "      <td>NaN</td>\n",
       "      <td>18.9.9</td>\n",
       "    </tr>\n",
       "    <tr>\n",
       "      <th>2</th>\n",
       "      <td>17765754-4ea5-4537-8155-3529c517cbf8</td>\n",
       "      <td>Kripal Singh</td>\n",
       "      <td>https://play-lh.googleusercontent.com/a/ACg8oc...</td>\n",
       "      <td>good service but may have minor issues at over...</td>\n",
       "      <td>4</td>\n",
       "      <td>0</td>\n",
       "      <td>NaN</td>\n",
       "      <td>2025-07-04 20:10:41</td>\n",
       "      <td>Thank you for your deliciously kind words! If ...</td>\n",
       "      <td>2025-07-04 20:13:37</td>\n",
       "      <td>NaN</td>\n",
       "    </tr>\n",
       "    <tr>\n",
       "      <th>3</th>\n",
       "      <td>c8248962-2440-4ccd-a2b5-86a65fc8828e</td>\n",
       "      <td>swati sharda</td>\n",
       "      <td>https://play-lh.googleusercontent.com/a-/ALV-U...</td>\n",
       "      <td>Nice and user friendly</td>\n",
       "      <td>5</td>\n",
       "      <td>0</td>\n",
       "      <td>18.9.8</td>\n",
       "      <td>2025-07-04 20:09:55</td>\n",
       "      <td>NaN</td>\n",
       "      <td>NaN</td>\n",
       "      <td>18.9.8</td>\n",
       "    </tr>\n",
       "    <tr>\n",
       "      <th>4</th>\n",
       "      <td>66996c56-4010-413b-aea8-1c3a2e531208</td>\n",
       "      <td>VRG Home Fab</td>\n",
       "      <td>https://play-lh.googleusercontent.com/a/ACg8oc...</td>\n",
       "      <td>good</td>\n",
       "      <td>5</td>\n",
       "      <td>0</td>\n",
       "      <td>NaN</td>\n",
       "      <td>2025-07-04 20:09:47</td>\n",
       "      <td>NaN</td>\n",
       "      <td>NaN</td>\n",
       "      <td>NaN</td>\n",
       "    </tr>\n",
       "  </tbody>\n",
       "</table>\n",
       "</div>"
      ],
      "text/plain": [
       "                               reviewId       userName  \\\n",
       "0  f186bba1-719d-40c9-9687-8e43490766de  Deepak Wakade   \n",
       "1  7863f328-d0f4-4a3e-b773-8ba6cc2b7500    Prem Gurung   \n",
       "2  17765754-4ea5-4537-8155-3529c517cbf8   Kripal Singh   \n",
       "3  c8248962-2440-4ccd-a2b5-86a65fc8828e   swati sharda   \n",
       "4  66996c56-4010-413b-aea8-1c3a2e531208   VRG Home Fab   \n",
       "\n",
       "                                           userImage  \\\n",
       "0  https://play-lh.googleusercontent.com/a-/ALV-U...   \n",
       "1  https://play-lh.googleusercontent.com/a-/ALV-U...   \n",
       "2  https://play-lh.googleusercontent.com/a/ACg8oc...   \n",
       "3  https://play-lh.googleusercontent.com/a-/ALV-U...   \n",
       "4  https://play-lh.googleusercontent.com/a/ACg8oc...   \n",
       "\n",
       "                                             content  score  thumbsUpCount  \\\n",
       "0                                          great app      5              0   \n",
       "1                                               Good      4              0   \n",
       "2  good service but may have minor issues at over...      4              0   \n",
       "3                             Nice and user friendly      5              0   \n",
       "4                                               good      5              0   \n",
       "\n",
       "  reviewCreatedVersion                   at  \\\n",
       "0               18.9.7  2025-07-04 20:11:10   \n",
       "1               18.9.9  2025-07-04 20:11:00   \n",
       "2                  NaN  2025-07-04 20:10:41   \n",
       "3               18.9.8  2025-07-04 20:09:55   \n",
       "4                  NaN  2025-07-04 20:09:47   \n",
       "\n",
       "                                        replyContent            repliedAt  \\\n",
       "0  Thank you for your deliciously kind words! If ...  2025-07-04 20:13:39   \n",
       "1                                                NaN                  NaN   \n",
       "2  Thank you for your deliciously kind words! If ...  2025-07-04 20:13:37   \n",
       "3                                                NaN                  NaN   \n",
       "4                                                NaN                  NaN   \n",
       "\n",
       "  appVersion  \n",
       "0     18.9.7  \n",
       "1     18.9.9  \n",
       "2        NaN  \n",
       "3     18.9.8  \n",
       "4        NaN  "
      ]
     },
     "execution_count": 3,
     "metadata": {},
     "output_type": "execute_result"
    }
   ],
   "source": [
    "df = pd.read_csv(r\"C:\\Users\\sadid\\OneDrive\\Desktop\\zomato_reviews.csv\")\n",
    "df.head()"
   ]
  },
  {
   "cell_type": "code",
   "execution_count": 4,
   "id": "66589332",
   "metadata": {},
   "outputs": [
    {
     "name": "stdout",
     "output_type": "stream",
     "text": [
      "(2000, 11)\n"
     ]
    }
   ],
   "source": [
    "print(df.shape)"
   ]
  },
  {
   "cell_type": "code",
   "execution_count": 5,
   "id": "96a99dc3",
   "metadata": {},
   "outputs": [
    {
     "name": "stdout",
     "output_type": "stream",
     "text": [
      "<class 'pandas.core.frame.DataFrame'>\n",
      "RangeIndex: 2000 entries, 0 to 1999\n",
      "Data columns (total 11 columns):\n",
      " #   Column                Non-Null Count  Dtype \n",
      "---  ------                --------------  ----- \n",
      " 0   reviewId              2000 non-null   object\n",
      " 1   userName              2000 non-null   object\n",
      " 2   userImage             2000 non-null   object\n",
      " 3   content               2000 non-null   object\n",
      " 4   score                 2000 non-null   int64 \n",
      " 5   thumbsUpCount         2000 non-null   int64 \n",
      " 6   reviewCreatedVersion  1608 non-null   object\n",
      " 7   at                    2000 non-null   object\n",
      " 8   replyContent          864 non-null    object\n",
      " 9   repliedAt             864 non-null    object\n",
      " 10  appVersion            1608 non-null   object\n",
      "dtypes: int64(2), object(9)\n",
      "memory usage: 172.0+ KB\n",
      "None\n"
     ]
    }
   ],
   "source": [
    "print(df.info())"
   ]
  },
  {
   "cell_type": "code",
   "execution_count": 6,
   "id": "7911011a",
   "metadata": {},
   "outputs": [
    {
     "name": "stdout",
     "output_type": "stream",
     "text": [
      "            score  thumbsUpCount\n",
      "count  2000.00000    2000.000000\n",
      "mean      4.30450       0.063000\n",
      "std       1.31554       2.203284\n",
      "min       1.00000       0.000000\n",
      "25%       4.00000       0.000000\n",
      "50%       5.00000       0.000000\n",
      "75%       5.00000       0.000000\n",
      "max       5.00000      98.000000\n"
     ]
    }
   ],
   "source": [
    "print(df.describe())"
   ]
  },
  {
   "cell_type": "code",
   "execution_count": 7,
   "id": "811fd3bb",
   "metadata": {},
   "outputs": [
    {
     "name": "stdout",
     "output_type": "stream",
     "text": [
      "reviewId                   0\n",
      "userName                   0\n",
      "userImage                  0\n",
      "content                    0\n",
      "score                      0\n",
      "thumbsUpCount              0\n",
      "reviewCreatedVersion     392\n",
      "at                         0\n",
      "replyContent            1136\n",
      "repliedAt               1136\n",
      "appVersion               392\n",
      "dtype: int64\n"
     ]
    }
   ],
   "source": [
    "print(df.isnull().sum())"
   ]
  },
  {
   "cell_type": "code",
   "execution_count": 10,
   "id": "107347dc",
   "metadata": {},
   "outputs": [
    {
     "data": {
      "text/html": [
       "<div>\n",
       "<style scoped>\n",
       "    .dataframe tbody tr th:only-of-type {\n",
       "        vertical-align: middle;\n",
       "    }\n",
       "\n",
       "    .dataframe tbody tr th {\n",
       "        vertical-align: top;\n",
       "    }\n",
       "\n",
       "    .dataframe thead th {\n",
       "        text-align: right;\n",
       "    }\n",
       "</style>\n",
       "<table border=\"1\" class=\"dataframe\">\n",
       "  <thead>\n",
       "    <tr style=\"text-align: right;\">\n",
       "      <th></th>\n",
       "      <th>userName</th>\n",
       "      <th>content</th>\n",
       "      <th>score</th>\n",
       "      <th>thumbsUpCount</th>\n",
       "      <th>reviewCreatedVersion</th>\n",
       "      <th>at</th>\n",
       "      <th>replyContent</th>\n",
       "      <th>appVersion</th>\n",
       "    </tr>\n",
       "  </thead>\n",
       "  <tbody>\n",
       "    <tr>\n",
       "      <th>0</th>\n",
       "      <td>Deepak Wakade</td>\n",
       "      <td>great app</td>\n",
       "      <td>5</td>\n",
       "      <td>0</td>\n",
       "      <td>18.9.7</td>\n",
       "      <td>2025-07-04 20:11:10</td>\n",
       "      <td>Thank you for your deliciously kind words! If ...</td>\n",
       "      <td>18.9.7</td>\n",
       "    </tr>\n",
       "    <tr>\n",
       "      <th>1</th>\n",
       "      <td>Prem Gurung</td>\n",
       "      <td>Good</td>\n",
       "      <td>4</td>\n",
       "      <td>0</td>\n",
       "      <td>18.9.9</td>\n",
       "      <td>2025-07-04 20:11:00</td>\n",
       "      <td>NaN</td>\n",
       "      <td>18.9.9</td>\n",
       "    </tr>\n",
       "    <tr>\n",
       "      <th>2</th>\n",
       "      <td>Kripal Singh</td>\n",
       "      <td>good service but may have minor issues at over...</td>\n",
       "      <td>4</td>\n",
       "      <td>0</td>\n",
       "      <td>NaN</td>\n",
       "      <td>2025-07-04 20:10:41</td>\n",
       "      <td>Thank you for your deliciously kind words! If ...</td>\n",
       "      <td>NaN</td>\n",
       "    </tr>\n",
       "    <tr>\n",
       "      <th>3</th>\n",
       "      <td>swati sharda</td>\n",
       "      <td>Nice and user friendly</td>\n",
       "      <td>5</td>\n",
       "      <td>0</td>\n",
       "      <td>18.9.8</td>\n",
       "      <td>2025-07-04 20:09:55</td>\n",
       "      <td>NaN</td>\n",
       "      <td>18.9.8</td>\n",
       "    </tr>\n",
       "    <tr>\n",
       "      <th>4</th>\n",
       "      <td>VRG Home Fab</td>\n",
       "      <td>good</td>\n",
       "      <td>5</td>\n",
       "      <td>0</td>\n",
       "      <td>NaN</td>\n",
       "      <td>2025-07-04 20:09:47</td>\n",
       "      <td>NaN</td>\n",
       "      <td>NaN</td>\n",
       "    </tr>\n",
       "  </tbody>\n",
       "</table>\n",
       "</div>"
      ],
      "text/plain": [
       "        userName                                            content  score  \\\n",
       "0  Deepak Wakade                                          great app      5   \n",
       "1    Prem Gurung                                               Good      4   \n",
       "2   Kripal Singh  good service but may have minor issues at over...      4   \n",
       "3   swati sharda                             Nice and user friendly      5   \n",
       "4   VRG Home Fab                                               good      5   \n",
       "\n",
       "   thumbsUpCount reviewCreatedVersion                   at  \\\n",
       "0              0               18.9.7  2025-07-04 20:11:10   \n",
       "1              0               18.9.9  2025-07-04 20:11:00   \n",
       "2              0                  NaN  2025-07-04 20:10:41   \n",
       "3              0               18.9.8  2025-07-04 20:09:55   \n",
       "4              0                  NaN  2025-07-04 20:09:47   \n",
       "\n",
       "                                        replyContent appVersion  \n",
       "0  Thank you for your deliciously kind words! If ...     18.9.7  \n",
       "1                                                NaN     18.9.9  \n",
       "2  Thank you for your deliciously kind words! If ...        NaN  \n",
       "3                                                NaN     18.9.8  \n",
       "4                                                NaN        NaN  "
      ]
     },
     "execution_count": 10,
     "metadata": {},
     "output_type": "execute_result"
    }
   ],
   "source": [
    "df.head()\n"
   ]
  },
  {
   "cell_type": "code",
   "execution_count": 12,
   "id": "c7179395",
   "metadata": {},
   "outputs": [],
   "source": [
    "df['reviewCreatedVersion']=df['reviewCreatedVersion'].fillna('unknown', inplace=True)"
   ]
  },
  {
   "cell_type": "code",
   "execution_count": 14,
   "id": "30d81768",
   "metadata": {},
   "outputs": [],
   "source": [
    "df['appVersion']=df['appVersion'].fillna('unknown', inplace=True)"
   ]
  },
  {
   "cell_type": "code",
   "execution_count": 20,
   "id": "b14f4b63",
   "metadata": {},
   "outputs": [
    {
     "name": "stderr",
     "output_type": "stream",
     "text": [
      "C:\\Users\\sadid\\AppData\\Local\\Temp\\ipykernel_11608\\561787076.py:1: FutureWarning: A value is trying to be set on a copy of a DataFrame or Series through chained assignment using an inplace method.\n",
      "The behavior will change in pandas 3.0. This inplace method will never work because the intermediate object on which we are setting values always behaves as a copy.\n",
      "\n",
      "For example, when doing 'df[col].method(value, inplace=True)', try using 'df.method({col: value}, inplace=True)' or df[col] = df[col].method(value) instead, to perform the operation inplace on the original object.\n",
      "\n",
      "\n",
      "  df['replyContent'].fillna('No reply from developer', inplace=True)\n"
     ]
    }
   ],
   "source": [
    "df['replyContent'].fillna('No reply from developer', inplace=True)"
   ]
  },
  {
   "cell_type": "code",
   "execution_count": 19,
   "id": "bed448cb",
   "metadata": {},
   "outputs": [
    {
     "name": "stdout",
     "output_type": "stream",
     "text": [
      "Index(['userName', 'content', 'score', 'thumbsUpCount', 'reviewCreatedVersion',\n",
      "       'at', 'replyContent', 'appVersion'],\n",
      "      dtype='object')\n"
     ]
    }
   ],
   "source": [
    "print(df.columns)\n"
   ]
  },
  {
   "cell_type": "code",
   "execution_count": 21,
   "id": "42021b2b",
   "metadata": {},
   "outputs": [
    {
     "name": "stdout",
     "output_type": "stream",
     "text": [
      "userName                   0\n",
      "content                    0\n",
      "score                      0\n",
      "thumbsUpCount              0\n",
      "reviewCreatedVersion    2000\n",
      "at                         0\n",
      "replyContent               0\n",
      "appVersion              2000\n",
      "dtype: int64\n"
     ]
    }
   ],
   "source": [
    "print(df.isnull().sum())"
   ]
  },
  {
   "cell_type": "code",
   "execution_count": 22,
   "id": "09b8acf3",
   "metadata": {},
   "outputs": [
    {
     "name": "stdout",
     "output_type": "stream",
     "text": [
      "Unique Scores: [5 4 1 3 2]\n"
     ]
    }
   ],
   "source": [
    "print(\"Unique Scores:\", df['score'].unique())"
   ]
  },
  {
   "cell_type": "code",
   "execution_count": 23,
   "id": "a454be85",
   "metadata": {},
   "outputs": [
    {
     "name": "stdout",
     "output_type": "stream",
     "text": [
      "Unique App Versions: [None]\n"
     ]
    }
   ],
   "source": [
    "print(\"Unique App Versions:\", df['appVersion'].unique())"
   ]
  },
  {
   "cell_type": "code",
   "execution_count": 24,
   "id": "cdeaf810",
   "metadata": {},
   "outputs": [
    {
     "name": "stdout",
     "output_type": "stream",
     "text": [
      "Unique Review Versions: [None]\n"
     ]
    }
   ],
   "source": [
    "print(\"Unique Review Versions:\", df['reviewCreatedVersion'].unique())"
   ]
  },
  {
   "cell_type": "code",
   "execution_count": 27,
   "id": "a8ceedce",
   "metadata": {},
   "outputs": [
    {
     "data": {
      "text/html": [
       "<div>\n",
       "<style scoped>\n",
       "    .dataframe tbody tr th:only-of-type {\n",
       "        vertical-align: middle;\n",
       "    }\n",
       "\n",
       "    .dataframe tbody tr th {\n",
       "        vertical-align: top;\n",
       "    }\n",
       "\n",
       "    .dataframe thead th {\n",
       "        text-align: right;\n",
       "    }\n",
       "</style>\n",
       "<table border=\"1\" class=\"dataframe\">\n",
       "  <thead>\n",
       "    <tr style=\"text-align: right;\">\n",
       "      <th></th>\n",
       "      <th>userName</th>\n",
       "      <th>content</th>\n",
       "      <th>score</th>\n",
       "      <th>thumbsUpCount</th>\n",
       "      <th>reviewCreatedVersion</th>\n",
       "      <th>at</th>\n",
       "      <th>replyContent</th>\n",
       "      <th>appVersion</th>\n",
       "    </tr>\n",
       "  </thead>\n",
       "  <tbody>\n",
       "    <tr>\n",
       "      <th>0</th>\n",
       "      <td>Deepak Wakade</td>\n",
       "      <td>great app</td>\n",
       "      <td>5</td>\n",
       "      <td>0</td>\n",
       "      <td>None</td>\n",
       "      <td>2025-07-04 20:11:10</td>\n",
       "      <td>No reply from developer</td>\n",
       "      <td>None</td>\n",
       "    </tr>\n",
       "    <tr>\n",
       "      <th>1</th>\n",
       "      <td>Prem Gurung</td>\n",
       "      <td>Good</td>\n",
       "      <td>4</td>\n",
       "      <td>0</td>\n",
       "      <td>None</td>\n",
       "      <td>2025-07-04 20:11:00</td>\n",
       "      <td>No reply from developer</td>\n",
       "      <td>None</td>\n",
       "    </tr>\n",
       "    <tr>\n",
       "      <th>2</th>\n",
       "      <td>Kripal Singh</td>\n",
       "      <td>good service but may have minor issues at over...</td>\n",
       "      <td>4</td>\n",
       "      <td>0</td>\n",
       "      <td>None</td>\n",
       "      <td>2025-07-04 20:10:41</td>\n",
       "      <td>No reply from developer</td>\n",
       "      <td>None</td>\n",
       "    </tr>\n",
       "    <tr>\n",
       "      <th>3</th>\n",
       "      <td>swati sharda</td>\n",
       "      <td>Nice and user friendly</td>\n",
       "      <td>5</td>\n",
       "      <td>0</td>\n",
       "      <td>None</td>\n",
       "      <td>2025-07-04 20:09:55</td>\n",
       "      <td>No reply from developer</td>\n",
       "      <td>None</td>\n",
       "    </tr>\n",
       "    <tr>\n",
       "      <th>4</th>\n",
       "      <td>VRG Home Fab</td>\n",
       "      <td>good</td>\n",
       "      <td>5</td>\n",
       "      <td>0</td>\n",
       "      <td>None</td>\n",
       "      <td>2025-07-04 20:09:47</td>\n",
       "      <td>No reply from developer</td>\n",
       "      <td>None</td>\n",
       "    </tr>\n",
       "  </tbody>\n",
       "</table>\n",
       "</div>"
      ],
      "text/plain": [
       "        userName                                            content  score  \\\n",
       "0  Deepak Wakade                                          great app      5   \n",
       "1    Prem Gurung                                               Good      4   \n",
       "2   Kripal Singh  good service but may have minor issues at over...      4   \n",
       "3   swati sharda                             Nice and user friendly      5   \n",
       "4   VRG Home Fab                                               good      5   \n",
       "\n",
       "   thumbsUpCount reviewCreatedVersion                   at  \\\n",
       "0              0                 None  2025-07-04 20:11:10   \n",
       "1              0                 None  2025-07-04 20:11:00   \n",
       "2              0                 None  2025-07-04 20:10:41   \n",
       "3              0                 None  2025-07-04 20:09:55   \n",
       "4              0                 None  2025-07-04 20:09:47   \n",
       "\n",
       "              replyContent appVersion  \n",
       "0  No reply from developer       None  \n",
       "1  No reply from developer       None  \n",
       "2  No reply from developer       None  \n",
       "3  No reply from developer       None  \n",
       "4  No reply from developer       None  "
      ]
     },
     "execution_count": 27,
     "metadata": {},
     "output_type": "execute_result"
    }
   ],
   "source": [
    "df.head()"
   ]
  },
  {
   "cell_type": "code",
   "execution_count": 33,
   "id": "c912ec06",
   "metadata": {},
   "outputs": [
    {
     "name": "stdout",
     "output_type": "stream",
     "text": [
      "Shape: (2000, 9)\n"
     ]
    }
   ],
   "source": [
    "print(\"Shape:\", df.shape)"
   ]
  },
  {
   "cell_type": "code",
   "execution_count": 25,
   "id": "6202c98d",
   "metadata": {},
   "outputs": [
    {
     "name": "stderr",
     "output_type": "stream",
     "text": [
      "C:\\Users\\sadid\\AppData\\Local\\Temp\\ipykernel_11608\\680642436.py:5: FutureWarning: \n",
      "\n",
      "Passing `palette` without assigning `hue` is deprecated and will be removed in v0.14.0. Assign the `x` variable to `hue` and set `legend=False` for the same effect.\n",
      "\n",
      "  sns.countplot(data=df, x='score', palette='coolwarm')\n"
     ]
    },
    {
     "data": {
      "image/png": "[encoded data removed]",
      "text/plain": [
       "<Figure size 800x500 with 1 Axes>"
      ]
     },
     "metadata": {},
     "output_type": "display_data"
    }
   ],
   "source": [
    "import seaborn as sns\n",
    "import matplotlib.pyplot as plt\n",
    "\n",
    "plt.figure(figsize=(8,5))\n",
    "sns.countplot(data=df, x='score', palette='coolwarm')\n",
    "plt.title('Distribution of Ratings')\n",
    "plt.xlabel('Rating Score')\n",
    "plt.ylabel('Count')\n",
    "plt.show()\n"
   ]
  },
  {
   "cell_type": "code",
   "execution_count": 26,
   "id": "426e84d9",
   "metadata": {},
   "outputs": [
    {
     "ename": "AttributeError",
     "evalue": "Can only use .dt accessor with datetimelike values",
     "output_type": "error",
     "traceback": [
      "\u001b[31m---------------------------------------------------------------------------\u001b[39m",
      "\u001b[31mAttributeError\u001b[39m                            Traceback (most recent call last)",
      "\u001b[36mCell\u001b[39m\u001b[36m \u001b[39m\u001b[32mIn[26]\u001b[39m\u001b[32m, line 3\u001b[39m\n\u001b[32m      1\u001b[39m \u001b[38;5;66;03m# Plot reviews over time\u001b[39;00m\n\u001b[32m      2\u001b[39m plt.figure(figsize=(\u001b[32m12\u001b[39m,\u001b[32m5\u001b[39m))\n\u001b[32m----> \u001b[39m\u001b[32m3\u001b[39m \u001b[43mdf\u001b[49m\u001b[43m[\u001b[49m\u001b[33;43m'\u001b[39;49m\u001b[33;43mat\u001b[39;49m\u001b[33;43m'\u001b[39;49m\u001b[43m]\u001b[49m\u001b[43m.\u001b[49m\u001b[43mdt\u001b[49m.date.value_counts().sort_index().plot()\n\u001b[32m      4\u001b[39m plt.title(\u001b[33m'\u001b[39m\u001b[33mNumber of Reviews Over Time\u001b[39m\u001b[33m'\u001b[39m)\n\u001b[32m      5\u001b[39m plt.xlabel(\u001b[33m'\u001b[39m\u001b[33mDate\u001b[39m\u001b[33m'\u001b[39m)\n",
      "\u001b[36mFile \u001b[39m\u001b[32mc:\\Users\\sadid\\scis-churn-intelligence\\venv\\Lib\\site-packages\\pandas\\core\\generic.py:6318\u001b[39m, in \u001b[36mNDFrame.__getattr__\u001b[39m\u001b[34m(self, name)\u001b[39m\n\u001b[32m   6311\u001b[39m \u001b[38;5;28;01mif\u001b[39;00m (\n\u001b[32m   6312\u001b[39m     name \u001b[38;5;129;01mnot\u001b[39;00m \u001b[38;5;129;01min\u001b[39;00m \u001b[38;5;28mself\u001b[39m._internal_names_set\n\u001b[32m   6313\u001b[39m     \u001b[38;5;129;01mand\u001b[39;00m name \u001b[38;5;129;01mnot\u001b[39;00m \u001b[38;5;129;01min\u001b[39;00m \u001b[38;5;28mself\u001b[39m._metadata\n\u001b[32m   6314\u001b[39m     \u001b[38;5;129;01mand\u001b[39;00m name \u001b[38;5;129;01mnot\u001b[39;00m \u001b[38;5;129;01min\u001b[39;00m \u001b[38;5;28mself\u001b[39m._accessors\n\u001b[32m   6315\u001b[39m     \u001b[38;5;129;01mand\u001b[39;00m \u001b[38;5;28mself\u001b[39m._info_axis._can_hold_identifiers_and_holds_name(name)\n\u001b[32m   6316\u001b[39m ):\n\u001b[32m   6317\u001b[39m     \u001b[38;5;28;01mreturn\u001b[39;00m \u001b[38;5;28mself\u001b[39m[name]\n\u001b[32m-> \u001b[39m\u001b[32m6318\u001b[39m \u001b[38;5;28;01mreturn\u001b[39;00m \u001b[38;5;28;43mobject\u001b[39;49m\u001b[43m.\u001b[49m\u001b[34;43m__getattribute__\u001b[39;49m\u001b[43m(\u001b[49m\u001b[38;5;28;43mself\u001b[39;49m\u001b[43m,\u001b[49m\u001b[43m \u001b[49m\u001b[43mname\u001b[49m\u001b[43m)\u001b[49m\n",
      "\u001b[36mFile \u001b[39m\u001b[32mc:\\Users\\sadid\\scis-churn-intelligence\\venv\\Lib\\site-packages\\pandas\\core\\accessor.py:224\u001b[39m, in \u001b[36mCachedAccessor.__get__\u001b[39m\u001b[34m(self, obj, cls)\u001b[39m\n\u001b[32m    221\u001b[39m \u001b[38;5;28;01mif\u001b[39;00m obj \u001b[38;5;129;01mis\u001b[39;00m \u001b[38;5;28;01mNone\u001b[39;00m:\n\u001b[32m    222\u001b[39m     \u001b[38;5;66;03m# we're accessing the attribute of the class, i.e., Dataset.geo\u001b[39;00m\n\u001b[32m    223\u001b[39m     \u001b[38;5;28;01mreturn\u001b[39;00m \u001b[38;5;28mself\u001b[39m._accessor\n\u001b[32m--> \u001b[39m\u001b[32m224\u001b[39m accessor_obj = \u001b[38;5;28;43mself\u001b[39;49m\u001b[43m.\u001b[49m\u001b[43m_accessor\u001b[49m\u001b[43m(\u001b[49m\u001b[43mobj\u001b[49m\u001b[43m)\u001b[49m\n\u001b[32m    225\u001b[39m \u001b[38;5;66;03m# Replace the property with the accessor object. Inspired by:\u001b[39;00m\n\u001b[32m    226\u001b[39m \u001b[38;5;66;03m# https://www.pydanny.com/cached-property.html\u001b[39;00m\n\u001b[32m    227\u001b[39m \u001b[38;5;66;03m# We need to use object.__setattr__ because we overwrite __setattr__ on\u001b[39;00m\n\u001b[32m    228\u001b[39m \u001b[38;5;66;03m# NDFrame\u001b[39;00m\n\u001b[32m    229\u001b[39m \u001b[38;5;28mobject\u001b[39m.\u001b[34m__setattr__\u001b[39m(obj, \u001b[38;5;28mself\u001b[39m._name, accessor_obj)\n",
      "\u001b[36mFile \u001b[39m\u001b[32mc:\\Users\\sadid\\scis-churn-intelligence\\venv\\Lib\\site-packages\\pandas\\core\\indexes\\accessors.py:643\u001b[39m, in \u001b[36mCombinedDatetimelikeProperties.__new__\u001b[39m\u001b[34m(cls, data)\u001b[39m\n\u001b[32m    640\u001b[39m \u001b[38;5;28;01melif\u001b[39;00m \u001b[38;5;28misinstance\u001b[39m(data.dtype, PeriodDtype):\n\u001b[32m    641\u001b[39m     \u001b[38;5;28;01mreturn\u001b[39;00m PeriodProperties(data, orig)\n\u001b[32m--> \u001b[39m\u001b[32m643\u001b[39m \u001b[38;5;28;01mraise\u001b[39;00m \u001b[38;5;167;01mAttributeError\u001b[39;00m(\u001b[33m\"\u001b[39m\u001b[33mCan only use .dt accessor with datetimelike values\u001b[39m\u001b[33m\"\u001b[39m)\n",
      "\u001b[31mAttributeError\u001b[39m: Can only use .dt accessor with datetimelike values"
     ]
    },
    {
     "data": {
      "text/plain": [
       "<Figure size 1200x500 with 0 Axes>"
      ]
     },
     "metadata": {},
     "output_type": "display_data"
    }
   ],
   "source": [
    "# Plot reviews over time\n",
    "plt.figure(figsize=(12,5))\n",
    "df['at'].dt.date.value_counts().sort_index().plot()\n",
    "plt.title('Number of Reviews Over Time')\n",
    "plt.xlabel('Date')\n",
    "plt.ylabel('Number of Reviews')\n",
    "plt.xticks(rotation=45)\n",
    "plt.grid(True)\n",
    "plt.show()\n"
   ]
  },
  {
   "cell_type": "code",
   "execution_count": 28,
   "id": "87b6f9e4",
   "metadata": {},
   "outputs": [
    {
     "data": {
      "image/png": "[encoded data removed]",
      "text/plain": [
       "<Figure size 800x500 with 1 Axes>"
      ]
     },
     "metadata": {},
     "output_type": "display_data"
    }
   ],
   "source": [
    "# Add new column for length of content\n",
    "df['review_length'] = df['content'].apply(len)\n",
    "\n",
    "# Plot review length distribution\n",
    "plt.figure(figsize=(8,5))\n",
    "sns.histplot(df['review_length'], bins=50, kde=True, color='skyblue')\n",
    "plt.title('Distribution of Review Lengths')\n",
    "plt.xlabel('Length of Review')\n",
    "plt.ylabel('Frequency')\n",
    "plt.show()\n"
   ]
  },
  {
   "cell_type": "code",
   "execution_count": 29,
   "id": "4bae16e7",
   "metadata": {},
   "outputs": [
    {
     "data": {
      "image/png": "[encoded data removed]",
      "text/plain": [
       "<Figure size 800x500 with 1 Axes>"
      ]
     },
     "metadata": {},
     "output_type": "display_data"
    }
   ],
   "source": [
    "plt.figure(figsize=(8,5))\n",
    "sns.histplot(df['thumbsUpCount'], bins=30, color='green')\n",
    "plt.title('Distribution of Thumbs Up Count')\n",
    "plt.xlabel('Thumbs Up')\n",
    "plt.ylabel('Count')\n",
    "plt.show()\n"
   ]
  },
  {
   "cell_type": "code",
   "execution_count": 30,
   "id": "40e767f4",
   "metadata": {},
   "outputs": [
    {
     "name": "stdout",
     "output_type": "stream",
     "text": [
      "Duplicate reviews: 0\n"
     ]
    }
   ],
   "source": [
    "print(\"Duplicate reviews:\", df.duplicated().sum())"
   ]
  },
  {
   "cell_type": "code",
   "execution_count": 31,
   "id": "18fcd90d",
   "metadata": {},
   "outputs": [
    {
     "name": "stdout",
     "output_type": "stream",
     "text": [
      "Empty reviews: 0\n"
     ]
    }
   ],
   "source": [
    "print(\"Empty reviews:\", df['content'].apply(lambda x: x.strip() == '').sum())"
   ]
  },
  {
   "cell_type": "code",
   "execution_count": 32,
   "id": "d2dedb8c",
   "metadata": {},
   "outputs": [
    {
     "data": {
      "image/png": "[encoded data removed]",
      "text/plain": [
       "<Figure size 600x400 with 2 Axes>"
      ]
     },
     "metadata": {},
     "output_type": "display_data"
    }
   ],
   "source": [
    "plt.figure(figsize=(6,4))\n",
    "sns.heatmap(df[['score', 'thumbsUpCount', 'review_length']].corr(), annot=True, cmap='Blues')\n",
    "plt.title('Correlation Heatmap')\n",
    "plt.show()\n"
   ]
  }
 ],
 "metadata": {
  "kernelspec": {
   "display_name": "venv",
   "language": "python",
   "name": "python3"
  },
  "language_info": {
   "codemirror_mode": {
    "name": "ipython",
    "version": 3
   },
   "file_extension": ".py",
   "mimetype": "text/x-python",
   "name": "python",
   "nbconvert_exporter": "python",
   "pygments_lexer": "ipython3",
   "version": "3.12.4"
  }
 },
 "nbformat": 4,
 "nbformat_minor": 5
}
